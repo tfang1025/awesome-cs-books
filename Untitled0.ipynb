{
  "nbformat": 4,
  "nbformat_minor": 0,
  "metadata": {
    "colab": {
      "provenance": [],
      "authorship_tag": "ABX9TyPlZG7NvCroMSGsuxEC+rQQ",
      "include_colab_link": true
    },
    "kernelspec": {
      "name": "python3",
      "display_name": "Python 3"
    },
    "language_info": {
      "name": "python"
    }
  },
  "cells": [
    {
      "cell_type": "markdown",
      "metadata": {
        "id": "view-in-github",
        "colab_type": "text"
      },
      "source": [
        "<a href=\"https://colab.research.google.com/github/tfang1025/awesome-cs-books/blob/main/Untitled0.ipynb\" target=\"_parent\"><img src=\"https://colab.research.google.com/assets/colab-badge.svg\" alt=\"Open In Colab\"/></a>"
      ]
    },
    {
      "cell_type": "markdown",
      "source": [
        "# Scientific Project(2023): Operations Management\n"
      ],
      "metadata": {
        "id": "Mo8lA9WhoTLd"
      }
    },
    {
      "cell_type": "markdown",
      "source": [
        "This project focuses on location and relocation problems of Ambulances."
      ],
      "metadata": {
        "id": "LLv5qBXWoppx"
      }
    },
    {
      "cell_type": "markdown",
      "source": [
        "## Problem description"
      ],
      "metadata": {
        "id": "JMX6oohOuZwS"
      }
    },
    {
      "cell_type": "markdown",
      "source": [
        "\n",
        "\n",
        "The models on ambulances positioning problem mostly divide into static, probabilistic and dynamic models. Static models were used at the planning stage and ignoring dynamic considerations. Probabilistic models were developed to reflect the fact that ambulances operate as servers in a queueing system and are sometimes unavailable to answer a call. Dynamic models are to deal with relocating ambulances in the same day to provide better coverage.\n",
        "\n",
        "**Note: Our objective is to maximize the demand covered**"
      ],
      "metadata": {
        "id": "xqG45MsloSZr"
      }
    },
    {
      "cell_type": "markdown",
      "source": [
        "## Mathematical formulation\n"
      ],
      "metadata": {
        "id": "qWO47-5jvBQp"
      }
    },
    {
      "cell_type": "markdown",
      "source": [
        "Ambulance location models are defined on graphs. Two early models for the static ambulances location problem are LSCM and MCLP. The location set covering model(LSCM) is from Toregas et al. (1971) to minimize the number of ambulances needed to cover all demand points. The maximal covering location problem (MCLP) is from   Church and ReVelle (1974), which is to maximize population coverage subject to limited ambulance availability. \n",
        "Here we use MCLP as the basic model to observe the location of available ambulances.\n",
        "\n",
        "**General notation:**\n",
        "\n",
        "Let $V$ donate the set of demand points and $W$ donate the set of potential ambulance location sites. The shortest travel time $t_{ij}$ from location i to location j of the graph is known. \n",
        "\n",
        "A demand point $i \\in V$ means to be covered by site $j \\in W$ if and only if $t_{ij} ≤ r$, where is a preset coverage standard. (**Note:** In Magdeburg we use r = 12 min)\n",
        "\n",
        "Let $W_i$ = { $j ∈ W: t_{ij} ≤ r$ } be the set of location sites covering demand point i.\n",
        "\n",
        "\n"
      ],
      "metadata": {
        "id": "vU3t49MqvFNc"
      }
    },
    {
      "cell_type": "markdown",
      "source": [
        "## MCLP from Church and ReVelle(1974)"
      ],
      "metadata": {
        "id": "7ph_H5wp4D5-"
      }
    },
    {
      "cell_type": "markdown",
      "source": [
        "\n",
        "<br><br>\n",
        "$\n",
        "\\begin{align}\n",
        "  \\begin{array}{lll}\n",
        "    &\\textbf{Objective} & \\\\\n",
        "    & \\min \\sum\\limits_{i \\in V} d_i \\cdot y_i & &~~~ (1) \\\\\n",
        "    &&\\\\\n",
        "    &\\textbf{Constraints} & \\\\\n",
        "    & \\sum\\limits_{j \\in W_i} x_j \\ge y_i &(i \\in V) &~~~(2) \\\\\n",
        "    & \\sum\\limits_{j \\in W} x_j = p & &~~~ (3) \\\\\n",
        "    & x_j \\in \\{0, 1\\}  &( j \\in W ) &~~~(4) \\\\\n",
        "    & y_i \\in \\{0, 1\\}  &( i \\in V ) &~~~(5) \\\\\n",
        "  \\end{array}\n",
        "\\end{align}\n",
        "$\n",
        "<br><br>\n",
        "\n",
        "The objective is to maximize the demand covered within the available ambulances. $d_i$ denotes the demand of location i, and $p$ is the number of available ambulances. The binary variable $y_i$ is equal to 1 if and only if location i is covered by at least one ambulance. \n",
        "\n"
      ],
      "metadata": {
        "id": "kWmM3Ntm4aKh"
      }
    },
    {
      "cell_type": "markdown",
      "source": [
        "## Case Study"
      ],
      "metadata": {
        "id": "6aBKLLTb-_yM"
      }
    },
    {
      "cell_type": "markdown",
      "source": [
        "We use the data of Magdeburg. The following table shows the latitude and longtitude information of the locations:\n",
        "\n"
      ],
      "metadata": {
        "id": "N5gF3ITlDozs"
      }
    },
    {
      "cell_type": "markdown",
      "source": [
        "We use an artificial small-sized data set.The following table shows the latitude and longitude information of the locations:\n",
        "<br><br>\n",
        "\\begin{array}{llll}\n",
        "    District  & Population & latitude & longitude \\\\\n",
        "    \\hline\n",
        "\\text{Alt Olvenstedt}\t&\t3.898\t&\t52.15340778143968 & 11.566980432132128\t\\\\\n",
        "\\text{Alte Neustadt}\t&\t11.818\t&\t52.144714373976676 & 11.654519383487516\t\\\\\n",
        "\\text{Altstadt}\t&\t16.688\t&\t52.13089826542388 & 11.631383834321964\t\\\\\n",
        "\\text{Barleber See}\t&\t82\t&\t52.219875811176095 & 11.656177887472518\t\\\\\n",
        "\\text{Berliner Chaussee}\t&\t2.384\t&\t52.12671935360414 & 11.700083592324669\t\\\\\n",
        "\\text{Beyendorfer Grund }\t&\t13\t&\t52.07531447846765 & 11.607003175128838\t\\\\\n",
        "\\text{Beyendorf Sohlen }\t&\t1.256\t&\t52.04994192734317 & 11.633815477888545\t\\\\\n",
        "\\text{Bruckfeld}\t&\t3.451\t&\t52.128451473333804 & 11.665984465779317\t\\\\\n",
        "\\text{Buckau}\t&\t6.482\t&\t52.10283477142023 & 11.64321453058647\t\\\\\n",
        "\\text{Cracau }\t&\t8.062\t&\t52.122060183830406 & 11.66596581714602\t\\\\\n",
        "\\text{Diesdorf}\t&\t3.900\t&\t52.1191649277226 & 11.565204662615983\t\\\\\n",
        "\\text{Fermersleben }\t&\t3.611\t&\t52.09207491833339 & 11.65701730085159\t\\\\\n",
        "\\text{Gewerbegebiet Nord}\t&\t19\t&\t52.1950277430958 & 11.667674696932227\t\\\\\n",
        "\\text{Sulzegrund }\t&\t10\t&\t52.176059593149475 & 11.608545934025923\t\\\\\n",
        "\\text{Grosser Silberberg}\t&\t0\t&\t52.167277774848344 & 11.587873945229497\t\\\\\n",
        "\\text{Herrenkrug}\t&\t1.342\t&\t52.14891070610001 & 11.695110953572888\t\\\\\n",
        "\\text{Hopfengarten }\t&\t4.446\t&\t52.08754472675174 & 11.63556072351334\t\\\\\n",
        "\\text{Industriehafen }\t&\t192\t&\t52.16531163617132 & 11.67128594674864\t\\\\\n",
        "\\text{Kannenstieg }\t&\t6.077\t&\t52.17080545569791 & 11.621588818664272\t\\\\\n",
        "\\text{Zipkeleben }\t&\t279\t&\t52.11326190250046 & 11.698977735172488\t\\\\\n",
        "\\text{Kreuzhorst}\t&\t0\t&\t52.08009350468691 & 11.702093239281519\t\\\\\n",
        "\\text{Leipziger Stasse}\t&\t15.987\t&\t52.10518856086183 & 11.622371610122757\t\\\\\n",
        "\\text{Lemsdorf}\t&\t2.191\t&\t52.09635606297586 & 11.595944462258032\t\\\\\n",
        "\\text{Neu Olvenstedt}\t&\t11.782\t&\t52.151491068446205 & 11.588915431338492\t\\\\\n",
        "\\text{Neue Neustadt }\t&\t15.760\t&\t52.156281536211026 & 11.642514140488984\t\\\\\n",
        "\\text{Neustadter Feld}\t&\t9.679\t&\t52.15977356344064 & 11.615662192814824\t\\\\\n",
        "\\text{Neustadter See}\t&\t11.196\t&\t52.17862802661336 & 11.637237077306505\t\\\\\n",
        "\\text{Nordwest}\t&\t4.499\t&\t52.14957470209415 & 11.610416222172422\t\\\\\n",
        "\\text{Ottersleben}\t&\t10.455\t&\t52.081290512919 & 11.557609384790519\t\\\\\n",
        "\\text{Pechau }\t&\t521\t&\t52.091429001778636 & 11.73122667131179\t\\\\\n",
        "\\text{Prester}\t&\t2.067\t&\t52.09893610132307 & 11.685797449603909\t\\\\\n",
        "\\text{Randau-Calenberge}\t&\t553\t&\t52.063716067445654 & 11.741498576957962\t\\\\\n",
        "\\text{Reform }\t&\t11.856\t&\t52.09029945584987 & 11.607985139404917\t\\\\\n",
        "\\text{Rothensee}\t&\t2.973\t&\t52.17649187627991 & 11.659383924364738\t\\\\\n",
        "\\text{Salbke}\t&\t44.533\t&\t52.06974776031611 & 11.651715393625626\t\\\\\n",
        "\\text{Stadfeld West }\t&\t14.597\t&\t52.12989571504648 & 11.587392737458872\t\\\\\n",
        "\\text{Sudenburg}\t&\t18.389\t&\t52.11323494834235 & 11.594570930653584\t\\\\\n",
        "\\text{Werder}\t&\t3.024\t&\t52.124046648307505 & 11.644755392293622\t\\\\\n",
        "\\text{Stadfeld Ost}\t&\t25.307\t&\t52.135277753895366 & 11.61770593325083\t\\\\\n",
        "\\text{Westerhusen }\t&\t3.374\t&\t52.05450444522898 & 11.672267496403157\t\\\\\n",
        "\\text{Total }\t&\t282.753\t\n",
        "\\\\\n",
        "\\end{array}\n",
        "\n"
      ],
      "metadata": {
        "id": "1Wz2VLWKHGaA"
      }
    },
    {
      "cell_type": "code",
      "source": [
        "# input data as python matrix\n",
        "input_data = [\n",
        "    ['Alt Olvenstedt'\t,\t3898\t,\t52.15340778143968, 11.566980432132128\t],\n",
        "    ['Alte Neustadt'\t,\t11818\t,\t52.144714373976676, 11.654519383487516\t],\n",
        "    ['Altstadt'\t,\t16688\t,\t52.13089826542388, 11.631383834321964\t],\n",
        "    ['Barleber See'\t,\t82\t,\t52.219875811176095, 11.656177887472518\t],\n",
        "    ['Berliner Chaussee'\t,\t2384\t,\t52.12671935360414, 11.700083592324669\t],\n",
        "    ['Beyendorfer Grund '\t,\t13\t,\t52.07531447846765, 11.607003175128838\t],\n",
        "    ['Beyendorf Sohlen '\t,\t1256\t,\t52.04994192734317, 11.633815477888545\t],\n",
        "    ['Bruckfeld'\t,\t3451\t,\t52.128451473333804, 11.665984465779317\t],\n",
        "    ['Buckau'\t,\t6482\t,\t52.10283477142023, 11.64321453058647\t],\n",
        "    ['Cracau '\t,\t8062\t,\t52.122060183830406, 11.66596581714602\t],\n",
        "    ['Diesdorf'\t,\t3900\t,\t52.1191649277226, 11.565204662615983\t],\n",
        "    ['Fermersleben '\t,\t3611\t,\t52.09207491833339, 11.65701730085159\t],\n",
        "    ['Gewerbegebiet Nord'\t,\t19\t,\t52.1950277430958, 11.667674696932227\t],\n",
        "    ['Sulzegrund '\t,\t10\t,\t52.176059593149475, 11.608545934025923\t],\n",
        "    ['Grosser Silberberg'\t,\t0\t,\t52.167277774848344, 11.587873945229497\t],\n",
        "    ['Herrenkrug'\t,\t1342\t,\t52.14891070610001, 11.695110953572888\t],\n",
        "    ['Hopfengarten '\t,\t4446\t,\t52.08754472675174, 11.63556072351334\t],\n",
        "    ['Industriehafen '\t,\t192\t,\t52.16531163617132, 11.67128594674864\t],\n",
        "    ['Kannenstieg '\t,\t.077\t,\t52.17080545569791, 11.621588818664272\t],\n",
        "    ['Zipkeleben '\t,\t279\t,\t52.11326190250046, 11.698977735172488\t],\n",
        "    ['Kreuzhorst'\t,\t0\t,\t52.08009350468691, 11.702093239281519\t],\n",
        "    ['Leipziger Stasse'\t,\t15987\t,\t52.10518856086183, 11.622371610122757\t],\n",
        "    ['Lemsdorf'\t,\t2191\t,\t52.09635606297586, 11.595944462258032\t],\n",
        "    ['Neu Olvenstedt'\t,\t11782\t,\t52.151491068446205, 11.588915431338492\t],\n",
        "    ['Neue Neustadt '\t,\t15760\t,\t52.156281536211026, 11.642514140488984\t],\n",
        "    ['Neustadter Feld'\t,\t9679\t,\t52.15977356344064, 11.615662192814824\t],\n",
        "    ['Neustadter See'\t,\t11196\t,\t52.17862802661336, 11.637237077306505\t],\n",
        "    ['Nordwest'\t,\t4499\t,\t52.14957470209415, 11.610416222172422\t],\n",
        "    ['Ottersleben'\t,\t10455\t,\t52.081290512919, 11.557609384790519\t],\n",
        "    ['Pechau '\t,\t521\t,\t52.091429001778636, 11.73122667131179\t],\n",
        "    ['Prester'\t,\t2067\t,\t52.09893610132307, 11.685797449603909\t],\n",
        "    ['Randau-Calenberge'\t,\t553\t,\t52.063716067445654, 11.741498576957962\t],\n",
        "    ['Reform '\t,\t11856\t,\t52.09029945584987, 11.607985139404917\t],\n",
        "    ['Rothensee'\t,\t2973\t,\t52.17649187627991, 11.659383924364738\t],\n",
        "    ['Salbke'\t,\t44533\t,\t52.06974776031611, 11.651715393625626\t],\n",
        "    ['Stadfeld West '\t,\t14597\t,\t52.12989571504648, 11.587392737458872\t],\n",
        "    ['Sudenburg'\t,\t18389\t,\t52.11323494834235, 11.594570930653584\t],\n",
        "    ['Werder'\t,\t3024\t,\t52.124046648307505, 11.644755392293622\t],\n",
        "    ['Stadfeld Ost'\t,\t25307\t,\t52.135277753895366, 11.61770593325083\t],\n",
        "    ['Westerhusen '\t,\t3374\t,\t52.05450444522898, 11.672267496403157\t]\n",
        "]"
      ],
      "metadata": {
        "id": "j-8Z-g3cPO6f"
      },
      "execution_count": null,
      "outputs": []
    },
    {
      "cell_type": "markdown",
      "source": [
        "## Python implementation"
      ],
      "metadata": {
        "id": "NbtkQqLknT85"
      }
    },
    {
      "cell_type": "markdown",
      "source": [
        "### Load input data"
      ],
      "metadata": {
        "id": "9LHlpVmmnXTN"
      }
    },
    {
      "cell_type": "code",
      "source": [
        "# load the required modules\n",
        "!pip install pandas\n",
        "!pip install plotly.express\n",
        "\n",
        "import pandas as pd\n",
        "import plotly.express as px\n"
      ],
      "metadata": {
        "colab": {
          "base_uri": "https://localhost:8080/"
        },
        "id": "P3XJ83kPna0b",
        "outputId": "c3b01ed4-95ef-4bab-d0b7-0f0e7736022f"
      },
      "execution_count": null,
      "outputs": [
        {
          "output_type": "stream",
          "name": "stdout",
          "text": [
            "Looking in indexes: https://pypi.org/simple, https://us-python.pkg.dev/colab-wheels/public/simple/\n",
            "Requirement already satisfied: pandas in /usr/local/lib/python3.10/dist-packages (1.5.3)\n",
            "Requirement already satisfied: python-dateutil>=2.8.1 in /usr/local/lib/python3.10/dist-packages (from pandas) (2.8.2)\n",
            "Requirement already satisfied: pytz>=2020.1 in /usr/local/lib/python3.10/dist-packages (from pandas) (2022.7.1)\n",
            "Requirement already satisfied: numpy>=1.21.0 in /usr/local/lib/python3.10/dist-packages (from pandas) (1.22.4)\n",
            "Requirement already satisfied: six>=1.5 in /usr/local/lib/python3.10/dist-packages (from python-dateutil>=2.8.1->pandas) (1.16.0)\n",
            "Looking in indexes: https://pypi.org/simple, https://us-python.pkg.dev/colab-wheels/public/simple/\n",
            "Collecting plotly.express\n",
            "  Downloading plotly_express-0.4.1-py2.py3-none-any.whl (2.9 kB)\n",
            "Requirement already satisfied: pandas>=0.20.0 in /usr/local/lib/python3.10/dist-packages (from plotly.express) (1.5.3)\n",
            "Requirement already satisfied: plotly>=4.1.0 in /usr/local/lib/python3.10/dist-packages (from plotly.express) (5.13.1)\n",
            "Requirement already satisfied: statsmodels>=0.9.0 in /usr/local/lib/python3.10/dist-packages (from plotly.express) (0.13.5)\n",
            "Requirement already satisfied: scipy>=0.18 in /usr/local/lib/python3.10/dist-packages (from plotly.express) (1.10.1)\n",
            "Requirement already satisfied: patsy>=0.5 in /usr/local/lib/python3.10/dist-packages (from plotly.express) (0.5.3)\n",
            "Requirement already satisfied: numpy>=1.11 in /usr/local/lib/python3.10/dist-packages (from plotly.express) (1.22.4)\n",
            "Requirement already satisfied: python-dateutil>=2.8.1 in /usr/local/lib/python3.10/dist-packages (from pandas>=0.20.0->plotly.express) (2.8.2)\n",
            "Requirement already satisfied: pytz>=2020.1 in /usr/local/lib/python3.10/dist-packages (from pandas>=0.20.0->plotly.express) (2022.7.1)\n",
            "Requirement already satisfied: six in /usr/local/lib/python3.10/dist-packages (from patsy>=0.5->plotly.express) (1.16.0)\n",
            "Requirement already satisfied: tenacity>=6.2.0 in /usr/local/lib/python3.10/dist-packages (from plotly>=4.1.0->plotly.express) (8.2.2)\n",
            "Requirement already satisfied: packaging>=21.3 in /usr/local/lib/python3.10/dist-packages (from statsmodels>=0.9.0->plotly.express) (23.1)\n",
            "Installing collected packages: plotly.express\n",
            "Successfully installed plotly.express-0.4.1\n"
          ]
        }
      ]
    },
    {
      "cell_type": "code",
      "source": [
        "# input data as matrix\n",
        "input_data = "
      ],
      "metadata": {
        "id": "ZGIHdrxoojdn"
      },
      "execution_count": null,
      "outputs": []
    },
    {
      "cell_type": "code",
      "source": [
        "# input data as python matrix\n",
        "input_data = [\n",
        "    ['Alt Olvenstedt'\t,\t3898\t,\t52.15340778143968, 11.566980432132128\t],\n",
        "    ['Alte Neustadt'\t,\t11818\t,\t52.144714373976676, 11.654519383487516\t],\n",
        "    ['Altstadt'\t,\t16688\t,\t52.13089826542388, 11.631383834321964\t],\n",
        "    ['Barleber See'\t,\t82\t,\t52.219875811176095, 11.656177887472518\t],\n",
        "    ['Berliner Chaussee'\t,\t2384\t,\t52.12671935360414, 11.700083592324669\t],\n",
        "    ['Beyendorfer Grund '\t,\t13\t,\t52.07531447846765, 11.607003175128838\t],\n",
        "    ['Beyendorf Sohlen '\t,\t1256\t,\t52.04994192734317, 11.633815477888545\t],\n",
        "    ['Bruckfeld'\t,\t3451\t,\t52.128451473333804, 11.665984465779317\t],\n",
        "    ['Buckau'\t,\t6482\t,\t52.10283477142023, 11.64321453058647\t],\n",
        "    ['Cracau '\t,\t8062\t,\t52.122060183830406, 11.66596581714602\t],\n",
        "    ['Diesdorf'\t,\t3900\t,\t52.1191649277226, 11.565204662615983\t],\n",
        "    ['Fermersleben '\t,\t3611\t,\t52.09207491833339, 11.65701730085159\t],\n",
        "    ['Gewerbegebiet Nord'\t,\t19\t,\t52.1950277430958, 11.667674696932227\t],\n",
        "    ['Sulzegrund '\t,\t10\t,\t52.176059593149475, 11.608545934025923\t],\n",
        "    ['Grosser Silberberg'\t,\t0\t,\t52.167277774848344, 11.587873945229497\t],\n",
        "    ['Herrenkrug'\t,\t1342\t,\t52.14891070610001, 11.695110953572888\t],\n",
        "    ['Hopfengarten '\t,\t4446\t,\t52.08754472675174, 11.63556072351334\t],\n",
        "    ['Industriehafen '\t,\t192\t,\t52.16531163617132, 11.67128594674864\t],\n",
        "    ['Kannenstieg '\t,\t.077\t,\t52.17080545569791, 11.621588818664272\t],\n",
        "    ['Zipkeleben '\t,\t279\t,\t52.11326190250046, 11.698977735172488\t],\n",
        "    ['Kreuzhorst'\t,\t0\t,\t52.08009350468691, 11.702093239281519\t],\n",
        "    ['Leipziger Stasse'\t,\t15987\t,\t52.10518856086183, 11.622371610122757\t],\n",
        "    ['Lemsdorf'\t,\t2191\t,\t52.09635606297586, 11.595944462258032\t],\n",
        "    ['Neu Olvenstedt'\t,\t11782\t,\t52.151491068446205, 11.588915431338492\t],\n",
        "    ['Neue Neustadt '\t,\t15760\t,\t52.156281536211026, 11.642514140488984\t],\n",
        "    ['Neustadter Feld'\t,\t9679\t,\t52.15977356344064, 11.615662192814824\t],\n",
        "    ['Neustadter See'\t,\t11196\t,\t52.17862802661336, 11.637237077306505\t],\n",
        "    ['Nordwest'\t,\t4499\t,\t52.14957470209415, 11.610416222172422\t],\n",
        "    ['Ottersleben'\t,\t10455\t,\t52.081290512919, 11.557609384790519\t],\n",
        "    ['Pechau '\t,\t521\t,\t52.091429001778636, 11.73122667131179\t],\n",
        "    ['Prester'\t,\t2067\t,\t52.09893610132307, 11.685797449603909\t],\n",
        "    ['Randau-Calenberge'\t,\t553\t,\t52.063716067445654, 11.741498576957962\t],\n",
        "    ['Reform '\t,\t11856\t,\t52.09029945584987, 11.607985139404917\t],\n",
        "    ['Rothensee'\t,\t2973\t,\t52.17649187627991, 11.659383924364738\t],\n",
        "    ['Salbke'\t,\t44533\t,\t52.06974776031611, 11.651715393625626\t],\n",
        "    ['Stadfeld West '\t,\t14597\t,\t52.12989571504648, 11.587392737458872\t],\n",
        "    ['Sudenburg'\t,\t18389\t,\t52.11323494834235, 11.594570930653584\t],\n",
        "    ['Werder'\t,\t3024\t,\t52.124046648307505, 11.644755392293622\t],\n",
        "    ['Stadfeld Ost'\t,\t25307\t,\t52.135277753895366, 11.61770593325083\t],\n",
        "    ['Westerhusen '\t,\t3374\t,\t52.05450444522898, 11.672267496403157\t]\n",
        "]\n",
        "\n",
        "# create dataframe from input data\n",
        "df = pd.DataFrame(input_data, columns=['District', 'Poputation', 'latitude', 'longitude'])\n",
        "\n",
        "# ensure that longitude and latitude columns are numeric\n",
        "df['longitude'] = pd.to_numeric(df['longitude'])\n",
        "df['latitude'] = pd.to_numeric(df['latitude'])\n",
        "\n",
        "# print dataframe\n",
        "print(df)\n",
        "\n",
        "# illustrate input data via Plotly Express\n",
        "fig = px.scatter_mapbox(df, lat='latitude', lon='longitude', color='District', \n",
        "                        zoom=10, mapbox_style='open-street-map',\n",
        "                        width=800, height=1000)\n",
        "fig.update_traces(marker={'size': 15})\n",
        "fig.show()"
      ],
      "metadata": {
        "colab": {
          "base_uri": "https://localhost:8080/",
          "height": 1000
        },
        "id": "7yxLR2ZootgO",
        "outputId": "0d10b0fc-2379-4c87-a5e7-c8856e4c5f61"
      },
      "execution_count": null,
      "outputs": [
        {
          "output_type": "stream",
          "name": "stdout",
          "text": [
            "              District  Poputation   latitude  longitude\n",
            "0       Alt Olvenstedt    3898.000  52.153408  11.566980\n",
            "1        Alte Neustadt   11818.000  52.144714  11.654519\n",
            "2             Altstadt   16688.000  52.130898  11.631384\n",
            "3         Barleber See      82.000  52.219876  11.656178\n",
            "4    Berliner Chaussee    2384.000  52.126719  11.700084\n",
            "5   Beyendorfer Grund       13.000  52.075314  11.607003\n",
            "6    Beyendorf Sohlen     1256.000  52.049942  11.633815\n",
            "7            Bruckfeld    3451.000  52.128451  11.665984\n",
            "8               Buckau    6482.000  52.102835  11.643215\n",
            "9              Cracau     8062.000  52.122060  11.665966\n",
            "10            Diesdorf    3900.000  52.119165  11.565205\n",
            "11       Fermersleben     3611.000  52.092075  11.657017\n",
            "12  Gewerbegebiet Nord      19.000  52.195028  11.667675\n",
            "13         Sulzegrund       10.000  52.176060  11.608546\n",
            "14  Grosser Silberberg       0.000  52.167278  11.587874\n",
            "15          Herrenkrug    1342.000  52.148911  11.695111\n",
            "16       Hopfengarten     4446.000  52.087545  11.635561\n",
            "17     Industriehafen      192.000  52.165312  11.671286\n",
            "18        Kannenstieg        0.077  52.170805  11.621589\n",
            "19         Zipkeleben      279.000  52.113262  11.698978\n",
            "20          Kreuzhorst       0.000  52.080094  11.702093\n",
            "21    Leipziger Stasse   15987.000  52.105189  11.622372\n",
            "22            Lemsdorf    2191.000  52.096356  11.595944\n",
            "23      Neu Olvenstedt   11782.000  52.151491  11.588915\n",
            "24      Neue Neustadt    15760.000  52.156282  11.642514\n",
            "25     Neustadter Feld    9679.000  52.159774  11.615662\n",
            "26      Neustadter See   11196.000  52.178628  11.637237\n",
            "27            Nordwest    4499.000  52.149575  11.610416\n",
            "28         Ottersleben   10455.000  52.081291  11.557609\n",
            "29             Pechau      521.000  52.091429  11.731227\n",
            "30             Prester    2067.000  52.098936  11.685797\n",
            "31   Randau-Calenberge     553.000  52.063716  11.741499\n",
            "32             Reform    11856.000  52.090299  11.607985\n",
            "33           Rothensee    2973.000  52.176492  11.659384\n",
            "34              Salbke   44533.000  52.069748  11.651715\n",
            "35      Stadfeld West    14597.000  52.129896  11.587393\n",
            "36           Sudenburg   18389.000  52.113235  11.594571\n",
            "37              Werder    3024.000  52.124047  11.644755\n",
            "38        Stadfeld Ost   25307.000  52.135278  11.617706\n",
            "39        Westerhusen     3374.000  52.054504  11.672267\n"
          ]
        },
        {
          "output_type": "display_data",
          "data": {
            "text/html": [
              "<html>\n",
              "<head><meta charset=\"utf-8\" /></head>\n",
              "<body>\n",
              "    <div>            <script src=\"https://cdnjs.cloudflare.com/ajax/libs/mathjax/2.7.5/MathJax.js?config=TeX-AMS-MML_SVG\"></script><script type=\"text/javascript\">if (window.MathJax && window.MathJax.Hub && window.MathJax.Hub.Config) {window.MathJax.Hub.Config({SVG: {font: \"STIX-Web\"}});}</script>                <script type=\"text/javascript\">window.PlotlyConfig = {MathJaxConfig: 'local'};</script>\n",
              "        <script src=\"https://cdn.plot.ly/plotly-2.18.2.min.js\"></script>                <div id=\"43f3942e-dbbc-4dfb-aeb0-88c490a6549e\" class=\"plotly-graph-div\" style=\"height:1000px; width:800px;\"></div>            <script type=\"text/javascript\">                                    window.PLOTLYENV=window.PLOTLYENV || {};                                    if (document.getElementById(\"43f3942e-dbbc-4dfb-aeb0-88c490a6549e\")) {                    Plotly.newPlot(                        \"43f3942e-dbbc-4dfb-aeb0-88c490a6549e\",                        [{\"hovertemplate\":\"District=Alt Olvenstedt<br>latitude=%{lat}<br>longitude=%{lon}<extra></extra>\",\"lat\":[52.15340778143968],\"legendgroup\":\"Alt Olvenstedt\",\"lon\":[11.566980432132128],\"marker\":{\"color\":\"#636efa\",\"size\":15},\"mode\":\"markers\",\"name\":\"Alt Olvenstedt\",\"showlegend\":true,\"subplot\":\"mapbox\",\"type\":\"scattermapbox\"},{\"hovertemplate\":\"District=Alte Neustadt<br>latitude=%{lat}<br>longitude=%{lon}<extra></extra>\",\"lat\":[52.144714373976676],\"legendgroup\":\"Alte Neustadt\",\"lon\":[11.654519383487516],\"marker\":{\"color\":\"#EF553B\",\"size\":15},\"mode\":\"markers\",\"name\":\"Alte Neustadt\",\"showlegend\":true,\"subplot\":\"mapbox\",\"type\":\"scattermapbox\"},{\"hovertemplate\":\"District=Altstadt<br>latitude=%{lat}<br>longitude=%{lon}<extra></extra>\",\"lat\":[52.13089826542388],\"legendgroup\":\"Altstadt\",\"lon\":[11.631383834321964],\"marker\":{\"color\":\"#00cc96\",\"size\":15},\"mode\":\"markers\",\"name\":\"Altstadt\",\"showlegend\":true,\"subplot\":\"mapbox\",\"type\":\"scattermapbox\"},{\"hovertemplate\":\"District=Barleber See<br>latitude=%{lat}<br>longitude=%{lon}<extra></extra>\",\"lat\":[52.219875811176095],\"legendgroup\":\"Barleber See\",\"lon\":[11.656177887472518],\"marker\":{\"color\":\"#ab63fa\",\"size\":15},\"mode\":\"markers\",\"name\":\"Barleber See\",\"showlegend\":true,\"subplot\":\"mapbox\",\"type\":\"scattermapbox\"},{\"hovertemplate\":\"District=Berliner Chaussee<br>latitude=%{lat}<br>longitude=%{lon}<extra></extra>\",\"lat\":[52.12671935360414],\"legendgroup\":\"Berliner Chaussee\",\"lon\":[11.700083592324669],\"marker\":{\"color\":\"#FFA15A\",\"size\":15},\"mode\":\"markers\",\"name\":\"Berliner Chaussee\",\"showlegend\":true,\"subplot\":\"mapbox\",\"type\":\"scattermapbox\"},{\"hovertemplate\":\"District=Beyendorfer Grund <br>latitude=%{lat}<br>longitude=%{lon}<extra></extra>\",\"lat\":[52.07531447846765],\"legendgroup\":\"Beyendorfer Grund \",\"lon\":[11.607003175128838],\"marker\":{\"color\":\"#19d3f3\",\"size\":15},\"mode\":\"markers\",\"name\":\"Beyendorfer Grund \",\"showlegend\":true,\"subplot\":\"mapbox\",\"type\":\"scattermapbox\"},{\"hovertemplate\":\"District=Beyendorf Sohlen <br>latitude=%{lat}<br>longitude=%{lon}<extra></extra>\",\"lat\":[52.04994192734317],\"legendgroup\":\"Beyendorf Sohlen \",\"lon\":[11.633815477888545],\"marker\":{\"color\":\"#FF6692\",\"size\":15},\"mode\":\"markers\",\"name\":\"Beyendorf Sohlen \",\"showlegend\":true,\"subplot\":\"mapbox\",\"type\":\"scattermapbox\"},{\"hovertemplate\":\"District=Bruckfeld<br>latitude=%{lat}<br>longitude=%{lon}<extra></extra>\",\"lat\":[52.128451473333804],\"legendgroup\":\"Bruckfeld\",\"lon\":[11.665984465779317],\"marker\":{\"color\":\"#B6E880\",\"size\":15},\"mode\":\"markers\",\"name\":\"Bruckfeld\",\"showlegend\":true,\"subplot\":\"mapbox\",\"type\":\"scattermapbox\"},{\"hovertemplate\":\"District=Buckau<br>latitude=%{lat}<br>longitude=%{lon}<extra></extra>\",\"lat\":[52.10283477142023],\"legendgroup\":\"Buckau\",\"lon\":[11.64321453058647],\"marker\":{\"color\":\"#FF97FF\",\"size\":15},\"mode\":\"markers\",\"name\":\"Buckau\",\"showlegend\":true,\"subplot\":\"mapbox\",\"type\":\"scattermapbox\"},{\"hovertemplate\":\"District=Cracau <br>latitude=%{lat}<br>longitude=%{lon}<extra></extra>\",\"lat\":[52.122060183830406],\"legendgroup\":\"Cracau \",\"lon\":[11.66596581714602],\"marker\":{\"color\":\"#FECB52\",\"size\":15},\"mode\":\"markers\",\"name\":\"Cracau \",\"showlegend\":true,\"subplot\":\"mapbox\",\"type\":\"scattermapbox\"},{\"hovertemplate\":\"District=Diesdorf<br>latitude=%{lat}<br>longitude=%{lon}<extra></extra>\",\"lat\":[52.1191649277226],\"legendgroup\":\"Diesdorf\",\"lon\":[11.565204662615983],\"marker\":{\"color\":\"#636efa\",\"size\":15},\"mode\":\"markers\",\"name\":\"Diesdorf\",\"showlegend\":true,\"subplot\":\"mapbox\",\"type\":\"scattermapbox\"},{\"hovertemplate\":\"District=Fermersleben <br>latitude=%{lat}<br>longitude=%{lon}<extra></extra>\",\"lat\":[52.09207491833339],\"legendgroup\":\"Fermersleben \",\"lon\":[11.65701730085159],\"marker\":{\"color\":\"#EF553B\",\"size\":15},\"mode\":\"markers\",\"name\":\"Fermersleben \",\"showlegend\":true,\"subplot\":\"mapbox\",\"type\":\"scattermapbox\"},{\"hovertemplate\":\"District=Gewerbegebiet Nord<br>latitude=%{lat}<br>longitude=%{lon}<extra></extra>\",\"lat\":[52.1950277430958],\"legendgroup\":\"Gewerbegebiet Nord\",\"lon\":[11.667674696932227],\"marker\":{\"color\":\"#00cc96\",\"size\":15},\"mode\":\"markers\",\"name\":\"Gewerbegebiet Nord\",\"showlegend\":true,\"subplot\":\"mapbox\",\"type\":\"scattermapbox\"},{\"hovertemplate\":\"District=Sulzegrund <br>latitude=%{lat}<br>longitude=%{lon}<extra></extra>\",\"lat\":[52.176059593149475],\"legendgroup\":\"Sulzegrund \",\"lon\":[11.608545934025923],\"marker\":{\"color\":\"#ab63fa\",\"size\":15},\"mode\":\"markers\",\"name\":\"Sulzegrund \",\"showlegend\":true,\"subplot\":\"mapbox\",\"type\":\"scattermapbox\"},{\"hovertemplate\":\"District=Grosser Silberberg<br>latitude=%{lat}<br>longitude=%{lon}<extra></extra>\",\"lat\":[52.167277774848344],\"legendgroup\":\"Grosser Silberberg\",\"lon\":[11.587873945229497],\"marker\":{\"color\":\"#FFA15A\",\"size\":15},\"mode\":\"markers\",\"name\":\"Grosser Silberberg\",\"showlegend\":true,\"subplot\":\"mapbox\",\"type\":\"scattermapbox\"},{\"hovertemplate\":\"District=Herrenkrug<br>latitude=%{lat}<br>longitude=%{lon}<extra></extra>\",\"lat\":[52.14891070610001],\"legendgroup\":\"Herrenkrug\",\"lon\":[11.695110953572888],\"marker\":{\"color\":\"#19d3f3\",\"size\":15},\"mode\":\"markers\",\"name\":\"Herrenkrug\",\"showlegend\":true,\"subplot\":\"mapbox\",\"type\":\"scattermapbox\"},{\"hovertemplate\":\"District=Hopfengarten <br>latitude=%{lat}<br>longitude=%{lon}<extra></extra>\",\"lat\":[52.08754472675174],\"legendgroup\":\"Hopfengarten \",\"lon\":[11.63556072351334],\"marker\":{\"color\":\"#FF6692\",\"size\":15},\"mode\":\"markers\",\"name\":\"Hopfengarten \",\"showlegend\":true,\"subplot\":\"mapbox\",\"type\":\"scattermapbox\"},{\"hovertemplate\":\"District=Industriehafen <br>latitude=%{lat}<br>longitude=%{lon}<extra></extra>\",\"lat\":[52.16531163617132],\"legendgroup\":\"Industriehafen \",\"lon\":[11.67128594674864],\"marker\":{\"color\":\"#B6E880\",\"size\":15},\"mode\":\"markers\",\"name\":\"Industriehafen \",\"showlegend\":true,\"subplot\":\"mapbox\",\"type\":\"scattermapbox\"},{\"hovertemplate\":\"District=Kannenstieg <br>latitude=%{lat}<br>longitude=%{lon}<extra></extra>\",\"lat\":[52.17080545569791],\"legendgroup\":\"Kannenstieg \",\"lon\":[11.621588818664272],\"marker\":{\"color\":\"#FF97FF\",\"size\":15},\"mode\":\"markers\",\"name\":\"Kannenstieg \",\"showlegend\":true,\"subplot\":\"mapbox\",\"type\":\"scattermapbox\"},{\"hovertemplate\":\"District=Zipkeleben <br>latitude=%{lat}<br>longitude=%{lon}<extra></extra>\",\"lat\":[52.11326190250046],\"legendgroup\":\"Zipkeleben \",\"lon\":[11.698977735172488],\"marker\":{\"color\":\"#FECB52\",\"size\":15},\"mode\":\"markers\",\"name\":\"Zipkeleben \",\"showlegend\":true,\"subplot\":\"mapbox\",\"type\":\"scattermapbox\"},{\"hovertemplate\":\"District=Kreuzhorst<br>latitude=%{lat}<br>longitude=%{lon}<extra></extra>\",\"lat\":[52.08009350468691],\"legendgroup\":\"Kreuzhorst\",\"lon\":[11.702093239281519],\"marker\":{\"color\":\"#636efa\",\"size\":15},\"mode\":\"markers\",\"name\":\"Kreuzhorst\",\"showlegend\":true,\"subplot\":\"mapbox\",\"type\":\"scattermapbox\"},{\"hovertemplate\":\"District=Leipziger Stasse<br>latitude=%{lat}<br>longitude=%{lon}<extra></extra>\",\"lat\":[52.10518856086183],\"legendgroup\":\"Leipziger Stasse\",\"lon\":[11.622371610122757],\"marker\":{\"color\":\"#EF553B\",\"size\":15},\"mode\":\"markers\",\"name\":\"Leipziger Stasse\",\"showlegend\":true,\"subplot\":\"mapbox\",\"type\":\"scattermapbox\"},{\"hovertemplate\":\"District=Lemsdorf<br>latitude=%{lat}<br>longitude=%{lon}<extra></extra>\",\"lat\":[52.09635606297586],\"legendgroup\":\"Lemsdorf\",\"lon\":[11.595944462258032],\"marker\":{\"color\":\"#00cc96\",\"size\":15},\"mode\":\"markers\",\"name\":\"Lemsdorf\",\"showlegend\":true,\"subplot\":\"mapbox\",\"type\":\"scattermapbox\"},{\"hovertemplate\":\"District=Neu Olvenstedt<br>latitude=%{lat}<br>longitude=%{lon}<extra></extra>\",\"lat\":[52.151491068446205],\"legendgroup\":\"Neu Olvenstedt\",\"lon\":[11.588915431338492],\"marker\":{\"color\":\"#ab63fa\",\"size\":15},\"mode\":\"markers\",\"name\":\"Neu Olvenstedt\",\"showlegend\":true,\"subplot\":\"mapbox\",\"type\":\"scattermapbox\"},{\"hovertemplate\":\"District=Neue Neustadt <br>latitude=%{lat}<br>longitude=%{lon}<extra></extra>\",\"lat\":[52.156281536211026],\"legendgroup\":\"Neue Neustadt \",\"lon\":[11.642514140488984],\"marker\":{\"color\":\"#FFA15A\",\"size\":15},\"mode\":\"markers\",\"name\":\"Neue Neustadt \",\"showlegend\":true,\"subplot\":\"mapbox\",\"type\":\"scattermapbox\"},{\"hovertemplate\":\"District=Neustadter Feld<br>latitude=%{lat}<br>longitude=%{lon}<extra></extra>\",\"lat\":[52.15977356344064],\"legendgroup\":\"Neustadter Feld\",\"lon\":[11.615662192814824],\"marker\":{\"color\":\"#19d3f3\",\"size\":15},\"mode\":\"markers\",\"name\":\"Neustadter Feld\",\"showlegend\":true,\"subplot\":\"mapbox\",\"type\":\"scattermapbox\"},{\"hovertemplate\":\"District=Neustadter See<br>latitude=%{lat}<br>longitude=%{lon}<extra></extra>\",\"lat\":[52.17862802661336],\"legendgroup\":\"Neustadter See\",\"lon\":[11.637237077306505],\"marker\":{\"color\":\"#FF6692\",\"size\":15},\"mode\":\"markers\",\"name\":\"Neustadter See\",\"showlegend\":true,\"subplot\":\"mapbox\",\"type\":\"scattermapbox\"},{\"hovertemplate\":\"District=Nordwest<br>latitude=%{lat}<br>longitude=%{lon}<extra></extra>\",\"lat\":[52.14957470209415],\"legendgroup\":\"Nordwest\",\"lon\":[11.610416222172422],\"marker\":{\"color\":\"#B6E880\",\"size\":15},\"mode\":\"markers\",\"name\":\"Nordwest\",\"showlegend\":true,\"subplot\":\"mapbox\",\"type\":\"scattermapbox\"},{\"hovertemplate\":\"District=Ottersleben<br>latitude=%{lat}<br>longitude=%{lon}<extra></extra>\",\"lat\":[52.081290512919],\"legendgroup\":\"Ottersleben\",\"lon\":[11.557609384790519],\"marker\":{\"color\":\"#FF97FF\",\"size\":15},\"mode\":\"markers\",\"name\":\"Ottersleben\",\"showlegend\":true,\"subplot\":\"mapbox\",\"type\":\"scattermapbox\"},{\"hovertemplate\":\"District=Pechau <br>latitude=%{lat}<br>longitude=%{lon}<extra></extra>\",\"lat\":[52.091429001778636],\"legendgroup\":\"Pechau \",\"lon\":[11.73122667131179],\"marker\":{\"color\":\"#FECB52\",\"size\":15},\"mode\":\"markers\",\"name\":\"Pechau \",\"showlegend\":true,\"subplot\":\"mapbox\",\"type\":\"scattermapbox\"},{\"hovertemplate\":\"District=Prester<br>latitude=%{lat}<br>longitude=%{lon}<extra></extra>\",\"lat\":[52.09893610132307],\"legendgroup\":\"Prester\",\"lon\":[11.685797449603909],\"marker\":{\"color\":\"#636efa\",\"size\":15},\"mode\":\"markers\",\"name\":\"Prester\",\"showlegend\":true,\"subplot\":\"mapbox\",\"type\":\"scattermapbox\"},{\"hovertemplate\":\"District=Randau-Calenberge<br>latitude=%{lat}<br>longitude=%{lon}<extra></extra>\",\"lat\":[52.063716067445654],\"legendgroup\":\"Randau-Calenberge\",\"lon\":[11.741498576957962],\"marker\":{\"color\":\"#EF553B\",\"size\":15},\"mode\":\"markers\",\"name\":\"Randau-Calenberge\",\"showlegend\":true,\"subplot\":\"mapbox\",\"type\":\"scattermapbox\"},{\"hovertemplate\":\"District=Reform <br>latitude=%{lat}<br>longitude=%{lon}<extra></extra>\",\"lat\":[52.09029945584987],\"legendgroup\":\"Reform \",\"lon\":[11.607985139404917],\"marker\":{\"color\":\"#00cc96\",\"size\":15},\"mode\":\"markers\",\"name\":\"Reform \",\"showlegend\":true,\"subplot\":\"mapbox\",\"type\":\"scattermapbox\"},{\"hovertemplate\":\"District=Rothensee<br>latitude=%{lat}<br>longitude=%{lon}<extra></extra>\",\"lat\":[52.17649187627991],\"legendgroup\":\"Rothensee\",\"lon\":[11.659383924364738],\"marker\":{\"color\":\"#ab63fa\",\"size\":15},\"mode\":\"markers\",\"name\":\"Rothensee\",\"showlegend\":true,\"subplot\":\"mapbox\",\"type\":\"scattermapbox\"},{\"hovertemplate\":\"District=Salbke<br>latitude=%{lat}<br>longitude=%{lon}<extra></extra>\",\"lat\":[52.06974776031611],\"legendgroup\":\"Salbke\",\"lon\":[11.651715393625626],\"marker\":{\"color\":\"#FFA15A\",\"size\":15},\"mode\":\"markers\",\"name\":\"Salbke\",\"showlegend\":true,\"subplot\":\"mapbox\",\"type\":\"scattermapbox\"},{\"hovertemplate\":\"District=Stadfeld West <br>latitude=%{lat}<br>longitude=%{lon}<extra></extra>\",\"lat\":[52.12989571504648],\"legendgroup\":\"Stadfeld West \",\"lon\":[11.587392737458872],\"marker\":{\"color\":\"#19d3f3\",\"size\":15},\"mode\":\"markers\",\"name\":\"Stadfeld West \",\"showlegend\":true,\"subplot\":\"mapbox\",\"type\":\"scattermapbox\"},{\"hovertemplate\":\"District=Sudenburg<br>latitude=%{lat}<br>longitude=%{lon}<extra></extra>\",\"lat\":[52.11323494834235],\"legendgroup\":\"Sudenburg\",\"lon\":[11.594570930653584],\"marker\":{\"color\":\"#FF6692\",\"size\":15},\"mode\":\"markers\",\"name\":\"Sudenburg\",\"showlegend\":true,\"subplot\":\"mapbox\",\"type\":\"scattermapbox\"},{\"hovertemplate\":\"District=Werder<br>latitude=%{lat}<br>longitude=%{lon}<extra></extra>\",\"lat\":[52.124046648307505],\"legendgroup\":\"Werder\",\"lon\":[11.644755392293622],\"marker\":{\"color\":\"#B6E880\",\"size\":15},\"mode\":\"markers\",\"name\":\"Werder\",\"showlegend\":true,\"subplot\":\"mapbox\",\"type\":\"scattermapbox\"},{\"hovertemplate\":\"District=Stadfeld Ost<br>latitude=%{lat}<br>longitude=%{lon}<extra></extra>\",\"lat\":[52.135277753895366],\"legendgroup\":\"Stadfeld Ost\",\"lon\":[11.61770593325083],\"marker\":{\"color\":\"#FF97FF\",\"size\":15},\"mode\":\"markers\",\"name\":\"Stadfeld Ost\",\"showlegend\":true,\"subplot\":\"mapbox\",\"type\":\"scattermapbox\"},{\"hovertemplate\":\"District=Westerhusen <br>latitude=%{lat}<br>longitude=%{lon}<extra></extra>\",\"lat\":[52.05450444522898],\"legendgroup\":\"Westerhusen \",\"lon\":[11.672267496403157],\"marker\":{\"color\":\"#FECB52\",\"size\":15},\"mode\":\"markers\",\"name\":\"Westerhusen \",\"showlegend\":true,\"subplot\":\"mapbox\",\"type\":\"scattermapbox\"}],                        {\"template\":{\"data\":{\"histogram2dcontour\":[{\"type\":\"histogram2dcontour\",\"colorbar\":{\"outlinewidth\":0,\"ticks\":\"\"},\"colorscale\":[[0.0,\"#0d0887\"],[0.1111111111111111,\"#46039f\"],[0.2222222222222222,\"#7201a8\"],[0.3333333333333333,\"#9c179e\"],[0.4444444444444444,\"#bd3786\"],[0.5555555555555556,\"#d8576b\"],[0.6666666666666666,\"#ed7953\"],[0.7777777777777778,\"#fb9f3a\"],[0.8888888888888888,\"#fdca26\"],[1.0,\"#f0f921\"]]}],\"choropleth\":[{\"type\":\"choropleth\",\"colorbar\":{\"outlinewidth\":0,\"ticks\":\"\"}}],\"histogram2d\":[{\"type\":\"histogram2d\",\"colorbar\":{\"outlinewidth\":0,\"ticks\":\"\"},\"colorscale\":[[0.0,\"#0d0887\"],[0.1111111111111111,\"#46039f\"],[0.2222222222222222,\"#7201a8\"],[0.3333333333333333,\"#9c179e\"],[0.4444444444444444,\"#bd3786\"],[0.5555555555555556,\"#d8576b\"],[0.6666666666666666,\"#ed7953\"],[0.7777777777777778,\"#fb9f3a\"],[0.8888888888888888,\"#fdca26\"],[1.0,\"#f0f921\"]]}],\"heatmap\":[{\"type\":\"heatmap\",\"colorbar\":{\"outlinewidth\":0,\"ticks\":\"\"},\"colorscale\":[[0.0,\"#0d0887\"],[0.1111111111111111,\"#46039f\"],[0.2222222222222222,\"#7201a8\"],[0.3333333333333333,\"#9c179e\"],[0.4444444444444444,\"#bd3786\"],[0.5555555555555556,\"#d8576b\"],[0.6666666666666666,\"#ed7953\"],[0.7777777777777778,\"#fb9f3a\"],[0.8888888888888888,\"#fdca26\"],[1.0,\"#f0f921\"]]}],\"heatmapgl\":[{\"type\":\"heatmapgl\",\"colorbar\":{\"outlinewidth\":0,\"ticks\":\"\"},\"colorscale\":[[0.0,\"#0d0887\"],[0.1111111111111111,\"#46039f\"],[0.2222222222222222,\"#7201a8\"],[0.3333333333333333,\"#9c179e\"],[0.4444444444444444,\"#bd3786\"],[0.5555555555555556,\"#d8576b\"],[0.6666666666666666,\"#ed7953\"],[0.7777777777777778,\"#fb9f3a\"],[0.8888888888888888,\"#fdca26\"],[1.0,\"#f0f921\"]]}],\"contourcarpet\":[{\"type\":\"contourcarpet\",\"colorbar\":{\"outlinewidth\":0,\"ticks\":\"\"}}],\"contour\":[{\"type\":\"contour\",\"colorbar\":{\"outlinewidth\":0,\"ticks\":\"\"},\"colorscale\":[[0.0,\"#0d0887\"],[0.1111111111111111,\"#46039f\"],[0.2222222222222222,\"#7201a8\"],[0.3333333333333333,\"#9c179e\"],[0.4444444444444444,\"#bd3786\"],[0.5555555555555556,\"#d8576b\"],[0.6666666666666666,\"#ed7953\"],[0.7777777777777778,\"#fb9f3a\"],[0.8888888888888888,\"#fdca26\"],[1.0,\"#f0f921\"]]}],\"surface\":[{\"type\":\"surface\",\"colorbar\":{\"outlinewidth\":0,\"ticks\":\"\"},\"colorscale\":[[0.0,\"#0d0887\"],[0.1111111111111111,\"#46039f\"],[0.2222222222222222,\"#7201a8\"],[0.3333333333333333,\"#9c179e\"],[0.4444444444444444,\"#bd3786\"],[0.5555555555555556,\"#d8576b\"],[0.6666666666666666,\"#ed7953\"],[0.7777777777777778,\"#fb9f3a\"],[0.8888888888888888,\"#fdca26\"],[1.0,\"#f0f921\"]]}],\"mesh3d\":[{\"type\":\"mesh3d\",\"colorbar\":{\"outlinewidth\":0,\"ticks\":\"\"}}],\"scatter\":[{\"fillpattern\":{\"fillmode\":\"overlay\",\"size\":10,\"solidity\":0.2},\"type\":\"scatter\"}],\"parcoords\":[{\"type\":\"parcoords\",\"line\":{\"colorbar\":{\"outlinewidth\":0,\"ticks\":\"\"}}}],\"scatterpolargl\":[{\"type\":\"scatterpolargl\",\"marker\":{\"colorbar\":{\"outlinewidth\":0,\"ticks\":\"\"}}}],\"bar\":[{\"error_x\":{\"color\":\"#2a3f5f\"},\"error_y\":{\"color\":\"#2a3f5f\"},\"marker\":{\"line\":{\"color\":\"#E5ECF6\",\"width\":0.5},\"pattern\":{\"fillmode\":\"overlay\",\"size\":10,\"solidity\":0.2}},\"type\":\"bar\"}],\"scattergeo\":[{\"type\":\"scattergeo\",\"marker\":{\"colorbar\":{\"outlinewidth\":0,\"ticks\":\"\"}}}],\"scatterpolar\":[{\"type\":\"scatterpolar\",\"marker\":{\"colorbar\":{\"outlinewidth\":0,\"ticks\":\"\"}}}],\"histogram\":[{\"marker\":{\"pattern\":{\"fillmode\":\"overlay\",\"size\":10,\"solidity\":0.2}},\"type\":\"histogram\"}],\"scattergl\":[{\"type\":\"scattergl\",\"marker\":{\"colorbar\":{\"outlinewidth\":0,\"ticks\":\"\"}}}],\"scatter3d\":[{\"type\":\"scatter3d\",\"line\":{\"colorbar\":{\"outlinewidth\":0,\"ticks\":\"\"}},\"marker\":{\"colorbar\":{\"outlinewidth\":0,\"ticks\":\"\"}}}],\"scattermapbox\":[{\"type\":\"scattermapbox\",\"marker\":{\"colorbar\":{\"outlinewidth\":0,\"ticks\":\"\"}}}],\"scatterternary\":[{\"type\":\"scatterternary\",\"marker\":{\"colorbar\":{\"outlinewidth\":0,\"ticks\":\"\"}}}],\"scattercarpet\":[{\"type\":\"scattercarpet\",\"marker\":{\"colorbar\":{\"outlinewidth\":0,\"ticks\":\"\"}}}],\"carpet\":[{\"aaxis\":{\"endlinecolor\":\"#2a3f5f\",\"gridcolor\":\"white\",\"linecolor\":\"white\",\"minorgridcolor\":\"white\",\"startlinecolor\":\"#2a3f5f\"},\"baxis\":{\"endlinecolor\":\"#2a3f5f\",\"gridcolor\":\"white\",\"linecolor\":\"white\",\"minorgridcolor\":\"white\",\"startlinecolor\":\"#2a3f5f\"},\"type\":\"carpet\"}],\"table\":[{\"cells\":{\"fill\":{\"color\":\"#EBF0F8\"},\"line\":{\"color\":\"white\"}},\"header\":{\"fill\":{\"color\":\"#C8D4E3\"},\"line\":{\"color\":\"white\"}},\"type\":\"table\"}],\"barpolar\":[{\"marker\":{\"line\":{\"color\":\"#E5ECF6\",\"width\":0.5},\"pattern\":{\"fillmode\":\"overlay\",\"size\":10,\"solidity\":0.2}},\"type\":\"barpolar\"}],\"pie\":[{\"automargin\":true,\"type\":\"pie\"}]},\"layout\":{\"autotypenumbers\":\"strict\",\"colorway\":[\"#636efa\",\"#EF553B\",\"#00cc96\",\"#ab63fa\",\"#FFA15A\",\"#19d3f3\",\"#FF6692\",\"#B6E880\",\"#FF97FF\",\"#FECB52\"],\"font\":{\"color\":\"#2a3f5f\"},\"hovermode\":\"closest\",\"hoverlabel\":{\"align\":\"left\"},\"paper_bgcolor\":\"white\",\"plot_bgcolor\":\"#E5ECF6\",\"polar\":{\"bgcolor\":\"#E5ECF6\",\"angularaxis\":{\"gridcolor\":\"white\",\"linecolor\":\"white\",\"ticks\":\"\"},\"radialaxis\":{\"gridcolor\":\"white\",\"linecolor\":\"white\",\"ticks\":\"\"}},\"ternary\":{\"bgcolor\":\"#E5ECF6\",\"aaxis\":{\"gridcolor\":\"white\",\"linecolor\":\"white\",\"ticks\":\"\"},\"baxis\":{\"gridcolor\":\"white\",\"linecolor\":\"white\",\"ticks\":\"\"},\"caxis\":{\"gridcolor\":\"white\",\"linecolor\":\"white\",\"ticks\":\"\"}},\"coloraxis\":{\"colorbar\":{\"outlinewidth\":0,\"ticks\":\"\"}},\"colorscale\":{\"sequential\":[[0.0,\"#0d0887\"],[0.1111111111111111,\"#46039f\"],[0.2222222222222222,\"#7201a8\"],[0.3333333333333333,\"#9c179e\"],[0.4444444444444444,\"#bd3786\"],[0.5555555555555556,\"#d8576b\"],[0.6666666666666666,\"#ed7953\"],[0.7777777777777778,\"#fb9f3a\"],[0.8888888888888888,\"#fdca26\"],[1.0,\"#f0f921\"]],\"sequentialminus\":[[0.0,\"#0d0887\"],[0.1111111111111111,\"#46039f\"],[0.2222222222222222,\"#7201a8\"],[0.3333333333333333,\"#9c179e\"],[0.4444444444444444,\"#bd3786\"],[0.5555555555555556,\"#d8576b\"],[0.6666666666666666,\"#ed7953\"],[0.7777777777777778,\"#fb9f3a\"],[0.8888888888888888,\"#fdca26\"],[1.0,\"#f0f921\"]],\"diverging\":[[0,\"#8e0152\"],[0.1,\"#c51b7d\"],[0.2,\"#de77ae\"],[0.3,\"#f1b6da\"],[0.4,\"#fde0ef\"],[0.5,\"#f7f7f7\"],[0.6,\"#e6f5d0\"],[0.7,\"#b8e186\"],[0.8,\"#7fbc41\"],[0.9,\"#4d9221\"],[1,\"#276419\"]]},\"xaxis\":{\"gridcolor\":\"white\",\"linecolor\":\"white\",\"ticks\":\"\",\"title\":{\"standoff\":15},\"zerolinecolor\":\"white\",\"automargin\":true,\"zerolinewidth\":2},\"yaxis\":{\"gridcolor\":\"white\",\"linecolor\":\"white\",\"ticks\":\"\",\"title\":{\"standoff\":15},\"zerolinecolor\":\"white\",\"automargin\":true,\"zerolinewidth\":2},\"scene\":{\"xaxis\":{\"backgroundcolor\":\"#E5ECF6\",\"gridcolor\":\"white\",\"linecolor\":\"white\",\"showbackground\":true,\"ticks\":\"\",\"zerolinecolor\":\"white\",\"gridwidth\":2},\"yaxis\":{\"backgroundcolor\":\"#E5ECF6\",\"gridcolor\":\"white\",\"linecolor\":\"white\",\"showbackground\":true,\"ticks\":\"\",\"zerolinecolor\":\"white\",\"gridwidth\":2},\"zaxis\":{\"backgroundcolor\":\"#E5ECF6\",\"gridcolor\":\"white\",\"linecolor\":\"white\",\"showbackground\":true,\"ticks\":\"\",\"zerolinecolor\":\"white\",\"gridwidth\":2}},\"shapedefaults\":{\"line\":{\"color\":\"#2a3f5f\"}},\"annotationdefaults\":{\"arrowcolor\":\"#2a3f5f\",\"arrowhead\":0,\"arrowwidth\":1},\"geo\":{\"bgcolor\":\"white\",\"landcolor\":\"#E5ECF6\",\"subunitcolor\":\"white\",\"showland\":true,\"showlakes\":true,\"lakecolor\":\"white\"},\"title\":{\"x\":0.05},\"mapbox\":{\"style\":\"light\"}}},\"mapbox\":{\"domain\":{\"x\":[0.0,1.0],\"y\":[0.0,1.0]},\"center\":{\"lat\":52.124897877911245,\"lon\":11.640025817987446},\"zoom\":10,\"style\":\"open-street-map\"},\"legend\":{\"title\":{\"text\":\"District\"},\"tracegroupgap\":0},\"margin\":{\"t\":60},\"height\":1000,\"width\":800},                        {\"responsive\": true}                    ).then(function(){\n",
              "                            \n",
              "var gd = document.getElementById('43f3942e-dbbc-4dfb-aeb0-88c490a6549e');\n",
              "var x = new MutationObserver(function (mutations, observer) {{\n",
              "        var display = window.getComputedStyle(gd).display;\n",
              "        if (!display || display === 'none') {{\n",
              "            console.log([gd, 'removed!']);\n",
              "            Plotly.purge(gd);\n",
              "            observer.disconnect();\n",
              "        }}\n",
              "}});\n",
              "\n",
              "// Listen for the removal of the full notebook cells\n",
              "var notebookContainer = gd.closest('#notebook-container');\n",
              "if (notebookContainer) {{\n",
              "    x.observe(notebookContainer, {childList: true});\n",
              "}}\n",
              "\n",
              "// Listen for the clearing of the current output cell\n",
              "var outputEl = gd.closest('.output');\n",
              "if (outputEl) {{\n",
              "    x.observe(outputEl, {childList: true});\n",
              "}}\n",
              "\n",
              "                        })                };                            </script>        </div>\n",
              "</body>\n",
              "</html>"
            ]
          },
          "metadata": {}
        }
      ]
    },
    {
      "cell_type": "markdown",
      "source": [
        "## Create models with PuLP"
      ],
      "metadata": {
        "id": "-y3fYwA3s7Kj"
      }
    },
    {
      "cell_type": "markdown",
      "source": [
        "### Load packages"
      ],
      "metadata": {
        "id": "X9d7mpxbtjMO"
      }
    },
    {
      "cell_type": "code",
      "source": [
        "# load the required modules\n",
        "!pip install haversine\n",
        "!pip install pulp\n",
        "\n",
        "import haversine\n",
        "import pulp"
      ],
      "metadata": {
        "colab": {
          "base_uri": "https://localhost:8080/"
        },
        "id": "zJ4csSJ3tmG4",
        "outputId": "fa3c1b60-ece1-4e7a-b753-03226957d9ec"
      },
      "execution_count": null,
      "outputs": [
        {
          "output_type": "stream",
          "name": "stdout",
          "text": [
            "Looking in indexes: https://pypi.org/simple, https://us-python.pkg.dev/colab-wheels/public/simple/\n",
            "Collecting haversine\n",
            "  Downloading haversine-2.8.0-py2.py3-none-any.whl (7.7 kB)\n",
            "Installing collected packages: haversine\n",
            "Successfully installed haversine-2.8.0\n",
            "Looking in indexes: https://pypi.org/simple, https://us-python.pkg.dev/colab-wheels/public/simple/\n",
            "Collecting pulp\n",
            "  Downloading PuLP-2.7.0-py3-none-any.whl (14.3 MB)\n",
            "\u001b[2K     \u001b[90m━━━━━━━━━━━━━━━━━━━━━━━━━━━━━━━━━━━━━━━━\u001b[0m \u001b[32m14.3/14.3 MB\u001b[0m \u001b[31m75.0 MB/s\u001b[0m eta \u001b[36m0:00:00\u001b[0m\n",
            "\u001b[?25hInstalling collected packages: pulp\n",
            "Successfully installed pulp-2.7.0\n"
          ]
        }
      ]
    },
    {
      "cell_type": "markdown",
      "source": [
        "## Formulation of Church and ReVelle (1974)\n"
      ],
      "metadata": {
        "id": "coeJUrjMu82V"
      }
    },
    {
      "cell_type": "markdown",
      "source": [
        "\n",
        "<br><br>\n",
        "$\n",
        "\\begin{align}\n",
        "  \\begin{array}{lll}\n",
        "    &\\textbf{Objective}  & \\\\\n",
        "    & \\min \\sum\\limits_{i \\in V} d_i \\cdot y_i & &~~~ (1) \\\\\n",
        "    &&\\\\\n",
        "    &\\textbf{Constraints} & \\\\\n",
        "    & \\sum\\limits_{j \\in W_i} x_j \\ge y_i &(i \\in V) &~~~(2) \\\\\n",
        "    & \\sum\\limits_{j \\in W} x_j = p  & &~~~ (3) \\\\\n",
        "    & x_j \\in \\{0, 1\\}  &( j \\in W ) &~~~(4) \\\\\n",
        "    & y_i \\in \\{0, 1\\}  &( i \\in V ) &~~~(5) \\\\\n",
        "  \\end{array}\n",
        "\\end{align}\n",
        "$\n",
        "<br><br>"
      ],
      "metadata": {
        "id": "jh0QJaquvJKL"
      }
    },
    {
      "cell_type": "code",
      "source": [
        "# build problem\n",
        "model = pulp.LpProblem(name='MCLP', sense=pulp.constants.LpMaximize)\n",
        "\n",
        "# initialize sets\n",
        "nodes = df.name\n",
        "\n",
        "# decision variables\n",
        "x = pulp.LpVariable.dicts(name='x', indices=nodes, \n",
        "                    lowBound=0, upBound=1, cat='Binary')\n",
        "y = pulp.LaVariable.dicts(name='y', indices=nodes,\n",
        "                          lowBound=0, upBound=1, cat='Binary')\n",
        "\n",
        "# Objective (1)\n"
      ],
      "metadata": {
        "id": "TLdMMP8FvRXe"
      },
      "execution_count": null,
      "outputs": []
    }
  ]
}